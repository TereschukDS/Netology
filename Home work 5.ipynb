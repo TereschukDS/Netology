{
 "cells": [
  {
   "cell_type": "markdown",
   "metadata": {},
   "source": [
    "# Домашнее задание к лекции 5.«Функции — использование встроенных и создание собственных»"
   ]
  },
  {
   "cell_type": "markdown",
   "metadata": {},
   "source": [
    "### Задача №1"
   ]
  },
  {
   "cell_type": "markdown",
   "metadata": {},
   "source": [
    "Я работаю секретарем и мне постоянно приходят различные документы. Я должен быть очень внимателен чтобы не потерять ни один документ. Каталог документов хранится в следующем виде:"
   ]
  },
  {
   "cell_type": "markdown",
   "metadata": {},
   "source": [
    "documents = [\n",
    "        {\"type\": \"passport\", \"number\": \"2207 876234\", \"name\": \"Василий Гупкин\"},\n",
    "        {\"type\": \"invoice\", \"number\": \"11-2\", \"name\": \"Геннадий Покемонов\"},\n",
    "        {\"type\": \"insurance\", \"number\": \"10006\", \"name\": \"Аристарх Павлов\"}\n",
    "      ]"
   ]
  },
  {
   "cell_type": "markdown",
   "metadata": {},
   "source": [
    "Перечень полок, на которых находятся документы хранится в следующем виде:"
   ]
  },
  {
   "cell_type": "markdown",
   "metadata": {},
   "source": [
    "directories = {\n",
    "    '1': ['2207 876234', '11-2', '5455 028765'],\n",
    "    '2': ['10006', '5400 028765', '5455 002299'],\n",
    "    '3': []\n",
    "}"
   ]
  },
  {
   "cell_type": "markdown",
   "metadata": {},
   "source": [
    "Необходимо реализовать пользовательские команды, которые будут выполнять следующие функции:\n",
    "\n",
    "    p – people – команда, которая спросит номер документа и выведет имя человека, которому он принадлежит;\n",
    "    s – shelf – команда, которая спросит номер документа и выведет номер полки, на которой он находится;\n",
    "    Правильно обработайте ситуации, когда пользователь будет вводить несуществующий документ.\n",
    "    l– list – команда, которая выведет список всех документов в формате passport \"2207 876234\" \"Василий Гупкин\";\n",
    "    a – add – команда, которая добавит новый документ в каталог и в перечень полок, спросив его номер, тип, имя владельца и номер полки, на котором он будет храниться. Корректно обработайте ситуацию, когда пользователь будет пытаться добавить документ на несуществующую полку.\n",
    "\n",
    "Внимание: p, s, l, a - это пользовательские команды, а не названия функций. Функции должны иметь выразительное название, передающие её действие."
   ]
  },
  {
   "cell_type": "markdown",
   "metadata": {},
   "source": [
    "**Решение:**"
   ]
  },
  {
   "cell_type": "code",
   "execution_count": 1,
   "metadata": {},
   "outputs": [],
   "source": [
    "directories = {\n",
    "    '1': ['2207 876234', '11-2', '5455 028765'],\n",
    "    '2': ['10006', '5400 028765', '5455 002299'],\n",
    "    '3': []\n",
    "}\n",
    "\n",
    "documents = [\n",
    "    {'type': 'passport', 'number': '2207 876234', 'name': 'Василий Гупкин'},\n",
    "    {'type': 'invoice', 'number': '11-2', 'name': 'Геннадий Покемонов'},\n",
    "    {'type': 'insurance', 'number': '10006', 'name': 'Аристарх Павлов'}\n",
    "]"
   ]
  },
  {
   "cell_type": "code",
   "execution_count": 2,
   "metadata": {},
   "outputs": [
    {
     "name": "stdout",
     "output_type": "stream",
     "text": [
      "Enter p, s, l or a, please!\n",
      "Enter your letter: a\n",
      "enter type: passport\n",
      "enter number: 5555 999888\n",
      "enter name: Vova\n",
      "enter dir_number: 3\n",
      "Perfecto!\n"
     ]
    }
   ],
   "source": [
    "def add(in_type, in_number, in_name, dir_number):\n",
    "    \"\"\"\n",
    "    a – add – команда, которая добавит новый документ в каталог и в перечень полок, спросив его номер, тип, имя владельца \n",
    "    и номер полки, на котором он будет храниться. Корректно обработайте ситуацию, когда пользователь будет пытаться \n",
    "    добавить документ на несуществующую полку.\n",
    "    \"\"\"\n",
    "    if dir_number not in directories.keys():\n",
    "        return 'none'\n",
    "    documents.append({'type': in_type, 'number': in_number, 'name': in_name})\n",
    "    for i in directories:\n",
    "        if dir_number == i:\n",
    "            directories[dir_number].append(in_number)\n",
    "            return 'Perfecto!'\n",
    "\n",
    "def people(documents_name):\n",
    "    \"\"\"\n",
    "    p – people – команда, которая спросит номер документа и выведет имя человека, которому он принадлежит;\n",
    "    \"\"\"\n",
    "    for x in documents:\n",
    "        if x['number'] == documents_name:\n",
    "            return x['name']\n",
    "    return \"Document undefined\"\n",
    "\n",
    "\n",
    "def shelf(doc_number):\n",
    "    \"\"\"\n",
    "    s – shelf – команда, которая спросит номер документа и выведет номер полки, на которой он находится;\n",
    "    Правильно обработайте ситуации, когда пользователь будет вводить несуществующий документ.\n",
    "    \"\"\"\n",
    "    for i in directories:\n",
    "        if doc_number in directories[i]:\n",
    "            return i\n",
    "    return 'error'\n",
    "\n",
    "\n",
    "def list_():\n",
    "    \"\"\"\n",
    "    l – l – команда, которая выведет список всех документов в формате passport \"2207 876234\" \"Василий Гупкин\"\n",
    "    \"\"\"\n",
    "    for x in documents:\n",
    "        type_ = x['type']\n",
    "        number = x['number']\n",
    "        name = x['name']\n",
    "        print(f'{type_} \"{number}\" \"{name}\"')\n",
    "\n",
    "print('Enter p, s, l or a, please!')\n",
    "input_char = input('Enter your letter: ')\n",
    "\n",
    "if input_char == 'p':\n",
    "    documents_name = input(\"Please enter the document number: \")\n",
    "    print(people(documents_name))\n",
    "elif input_char == 's':\n",
    "    doc_number = input('Please enter the document number: ')\n",
    "    print(shelf(doc_number))\n",
    "elif input_char == 'l':\n",
    "    list_()\n",
    "elif input_char == 'a':\n",
    "    in_type = input('enter type: ')\n",
    "    in_number =  input('enter number: ')\n",
    "    in_name = input('enter name: ')\n",
    "    dir_number = input('enter dir_number: ')\n",
    "    print(add(in_type, in_number, in_name, dir_number))\n",
    "else:\n",
    "    print('You entered the wrong letter')\n"
   ]
  },
  {
   "cell_type": "code",
   "execution_count": null,
   "metadata": {},
   "outputs": [],
   "source": []
  }
 ],
 "metadata": {
  "kernelspec": {
   "display_name": "Python 3",
   "language": "python",
   "name": "python3"
  },
  "language_info": {
   "codemirror_mode": {
    "name": "ipython",
    "version": 3
   },
   "file_extension": ".py",
   "mimetype": "text/x-python",
   "name": "python",
   "nbconvert_exporter": "python",
   "pygments_lexer": "ipython3",
   "version": "3.8.5"
  }
 },
 "nbformat": 4,
 "nbformat_minor": 4
}
