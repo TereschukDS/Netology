{
 "cells": [
  {
   "cell_type": "markdown",
   "metadata": {},
   "source": [
    "# Домашнее задание к лекции 2. «Условные конструкции. Операции сравнения»"
   ]
  },
  {
   "cell_type": "markdown",
   "metadata": {},
   "source": [
    "### Задача №1"
   ]
  },
  {
   "cell_type": "markdown",
   "metadata": {},
   "source": [
    "Решить задачу на hackerrank \"Python If-Else\""
   ]
  },
  {
   "cell_type": "markdown",
   "metadata": {},
   "source": [
    "Given an integer, n, perform the following conditional actions:\n",
    "If n is odd, print Weird\n",
    "If n is even and in the inclusive range of 2 to 5 , print Not Weird\n",
    "If n is even and in the inclusive range of 6 to 20, print Weird\n",
    "If n is even and greater than 20, print Not Weird"
   ]
  },
  {
   "cell_type": "markdown",
   "metadata": {},
   "source": [
    "**Решение:**"
   ]
  },
  {
   "cell_type": "markdown",
   "metadata": {},
   "source": [
    "Ссылка на профиль hackerrank https://www.hackerrank.com/TereschukDS"
   ]
  },
  {
   "cell_type": "code",
   "execution_count": null,
   "metadata": {},
   "outputs": [],
   "source": [
    "n = int(input())"
   ]
  },
  {
   "cell_type": "code",
   "execution_count": null,
   "metadata": {},
   "outputs": [],
   "source": [
    "if n % 2 == True:\n",
    "    print('Weird')\n",
    "elif 2 <= n <= 5:\n",
    "    print('Not Weird')\n",
    "elif 6 <= n <= 20:\n",
    "    print('Weird')\n",
    "elif n > 20:\n",
    "    print('Not Weird')"
   ]
  },
  {
   "cell_type": "markdown",
   "metadata": {},
   "source": [
    "### Задача №2"
   ]
  },
  {
   "cell_type": "markdown",
   "metadata": {},
   "source": [
    "На лекции мы рассматривали пример для военкомата. Сейчас мы знаем про его рост. Расширить это приложение следующим условиями:\n",
    "\n",
    "    Проверка на возраст призывника;\n",
    "    Количество детей;\n",
    "    Учится ли он сейчас."
   ]
  },
  {
   "cell_type": "markdown",
   "metadata": {},
   "source": [
    "**Решение:**"
   ]
  },
  {
   "cell_type": "code",
   "execution_count": null,
   "metadata": {},
   "outputs": [],
   "source": [
    "children = int(input('Сколько у Вас детей?: '))"
   ]
  },
  {
   "cell_type": "code",
   "execution_count": null,
   "metadata": {},
   "outputs": [],
   "source": [
    "if children > 0:\n",
    "    print('Отсрочка от армии по беременности жены')"
   ]
  },
  {
   "cell_type": "code",
   "execution_count": null,
   "metadata": {},
   "outputs": [],
   "source": [
    "student = (input( 'Учитесь Вы сейчас? : ')).upper()\n",
    "print(student)\n",
    "if student == 'ДА':\n",
    "    print('Отсрочка от армии в связи с учебой')\n",
    "elif student == 'НЕТ':\n",
    "    print('Вы призываетесь к военной службе!')\n",
    "else:\n",
    "    print('Напишите Да или Нет!')"
   ]
  },
  {
   "cell_type": "code",
   "execution_count": null,
   "metadata": {},
   "outputs": [],
   "source": [
    "age = int(input('Сколько Вам лет?: '))"
   ]
  },
  {
   "cell_type": "code",
   "execution_count": null,
   "metadata": {},
   "outputs": [],
   "source": [
    "height = int(input('Какой у Вас рост?: '))"
   ]
  },
  {
   "cell_type": "code",
   "execution_count": null,
   "metadata": {},
   "outputs": [],
   "source": [
    "if 18 <= age < 27: \n",
    "    if height < 170:\n",
    "        print('Вы призываетесь в танкисты')\n",
    "    elif height < 185 :\n",
    "        print('Вы призываетесь на флот')\n",
    "    elif height < 200:\n",
    "        print('Вы призываетесь в десантники')\n",
    "    else:\n",
    "        print('Вы призываетесь в другие войска')\n",
    "else:\n",
    "    print('У Вас непризывной возраст')"
   ]
  },
  {
   "cell_type": "markdown",
   "metadata": {},
   "source": [
    "### Задача №3"
   ]
  },
  {
   "cell_type": "markdown",
   "metadata": {},
   "source": [
    "Разработать приложение для определения знака зодиака по дате рождения.\n",
    "Пример:"
   ]
  },
  {
   "cell_type": "markdown",
   "metadata": {},
   "source": [
    "Введите месяц: март\n",
    "Введите число: 6\n",
    "\n",
    "Вывод:\n",
    "Рыбы"
   ]
  },
  {
   "cell_type": "markdown",
   "metadata": {},
   "source": [
    "**Решение:**"
   ]
  },
  {
   "cell_type": "code",
   "execution_count": null,
   "metadata": {},
   "outputs": [],
   "source": [
    "month_of_birth = int(input('Введите Ваш месяц рождения: '))"
   ]
  },
  {
   "cell_type": "code",
   "execution_count": null,
   "metadata": {},
   "outputs": [],
   "source": [
    "day_of_birth = int(input('А теперь, введите день Вашего рождения: '))"
   ]
  },
  {
   "cell_type": "code",
   "execution_count": null,
   "metadata": {},
   "outputs": [],
   "source": [
    "if (month_of_birth == 1 and 1 <= day_of_birth <= 20) or (month_of_birth == 12 and 22 <= day_of_birth <= 31):\n",
    "    print('Вы козерог!')\n",
    "elif (month_of_birth == 2 and 1 <= day_of_birth <= 19) or (month_of_birth == 1 and 21 <= day_of_birth <= 31):\n",
    "    print('Вы водолей!')\n",
    "elif (month_of_birth == 3 and 1 <= day_of_birth <= 20) or (month_of_birth == 2 and 20 <= day_of_birth <= 29):\n",
    "    print('Вы рыбы!')\n",
    "elif (month_of_birth == 4 and 1 <= day_of_birth <= 20) or (month_of_birth == 3 and 21 <= day_of_birth <= 31):\n",
    "    print('Вы овен!')\n",
    "elif (month_of_birth == 5 and 1 <= day_of_birth <= 21) or (month_of_birth == 4 and 21 <= day_of_birth <= 30):\n",
    "    print('Вы телец!')\n",
    "elif (month_of_birth == 6 and 1 <= day_of_birth <= 21) or (month_of_birth == 5 and 22 <= day_of_birth <= 31):\n",
    "    print('Вы близнецы!')\n",
    "elif (month_of_birth == 7 and 1 <= day_of_birth <= 22) or (month_of_birth == 6 and 22 <= day_of_birth <= 30):\n",
    "    print('Вы рак!')\n",
    "elif (month_of_birth == 8 and 1 <= day_of_birth <= 23) or (month_of_birth == 7 and 23 <= day_of_birth <= 31):\n",
    "    print('Вы лев!')\n",
    "elif (month_of_birth == 9 and 1 <= day_of_birth <= 22) or (month_of_birth == 8 and 24 <= day_of_birth <= 31):\n",
    "    print('Вы дева!')\n",
    "elif (month_of_birth == 10 and 1 <= day_of_birth <= 22) or (month_of_birth == 9 and 23 <= day_of_birth <= 30):\n",
    "    print('Вы весы!')\n",
    "elif (month_of_birth == 11 and 1 <= day_of_birth <= 22) or (month_of_birth == 10 and 23 <= day_of_birth <= 31):\n",
    "    print('Вы скорпион!')\n",
    "elif (month_of_birth == 12 and 1 <= day_of_birth <= 21) or (month_of_birth == 11 and 22 <= day_of_birth <= 30):\n",
    "    print('Вы стрелец!')\n",
    "else: \n",
    "    print('Упс, что-то пошло не так! Будьте осторожны при вводе месяца и дня!')"
   ]
  }
 ],
 "metadata": {
  "kernelspec": {
   "display_name": "Python 3",
   "language": "python",
   "name": "python3"
  },
  "language_info": {
   "codemirror_mode": {
    "name": "ipython",
    "version": 3
   },
   "file_extension": ".py",
   "mimetype": "text/x-python",
   "name": "python",
   "nbconvert_exporter": "python",
   "pygments_lexer": "ipython3",
   "version": "3.8.5"
  }
 },
 "nbformat": 4,
 "nbformat_minor": 4
}
