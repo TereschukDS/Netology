{
 "cells": [
  {
   "cell_type": "markdown",
   "metadata": {},
   "source": [
    "# Задание на дипломный проект «Резервное копирование» первого блока «Основы языка программирования Python»."
   ]
  },
  {
   "cell_type": "markdown",
   "metadata": {},
   "source": [
    "Возможна такая ситуация, что мы хотим показать друзьям фотографии из социальных сетей, но соц. сети могут быть недоступны по каким-либо причинам. Давайте защитимся от такого.\n",
    "Нужно написать программу для резервного копирования фотографий с профиля(аватарок) пользователя vk в облачное хранилище Яндекс.Диск.\n",
    "Для названий фотографий использовать количество лайков, если количество лайков одинаково, то добавить дату загрузки.\n",
    "Информацию по сохраненным фотографиям сохранить в json-файл."
   ]
  },
  {
   "cell_type": "markdown",
   "metadata": {},
   "source": [
    "### Задание:"
   ]
  },
  {
   "cell_type": "markdown",
   "metadata": {},
   "source": [
    "Нужно написать программу, которая будет:\n",
    "\n",
    "1. Получать фотографии с профиля. Для этого нужно использовать метод photos.get.\n",
    "2. Сохранять фотографии максимального размера(ширина/высота в пикселях) на Я.Диске.\n",
    "3. Для имени фотографий использовать количество лайков.\n",
    "4. Сохранять информацию по фотографиям в json-файл с результатами."
   ]
  },
  {
   "cell_type": "markdown",
   "metadata": {},
   "source": [
    "### Входные данные:"
   ]
  },
  {
   "cell_type": "markdown",
   "metadata": {},
   "source": [
    "Пользователь вводит:\n",
    "\n",
    "1. id пользователя vk;\n",
    "2. токен с Полигона Яндекс.Диска. Важно: Токен публиковать в github не нужно!"
   ]
  },
  {
   "cell_type": "markdown",
   "metadata": {},
   "source": [
    "### Выходные данные:"
   ]
  },
  {
   "cell_type": "markdown",
   "metadata": {},
   "source": [
    "1. json-файл с информацией по файлу:"
   ]
  },
  {
   "cell_type": "markdown",
   "metadata": {},
   "source": [
    "    [{\n",
    "    \"file_name\": \"34.jpg\",\n",
    "    \"size\": \"z\"\n",
    "    }]"
   ]
  },
  {
   "cell_type": "markdown",
   "metadata": {},
   "source": [
    "2. Измененный Я.диск, куда добавились фотографии."
   ]
  },
  {
   "cell_type": "markdown",
   "metadata": {},
   "source": [
    "### Обязательные требования к программе:"
   ]
  },
  {
   "cell_type": "markdown",
   "metadata": {},
   "source": [
    "1. Использовать REST API Я.Диска и ключ, полученный с полигона.\n",
    "2. Для загруженных фотографий нужно создать свою папку.\n",
    "3. Сохранять указанное количество фотографий(по умолчанию 5) наибольшего размера (ширина/высота в пикселях) на Я.Диске\n",
    "4. делать прогресс-бар или логирование для отслеживания процесса программы.\n",
    "5. Код программы должен удовлетворять PEP8."
   ]
  },
  {
   "cell_type": "markdown",
   "metadata": {},
   "source": [
    "### Необязательные требования к программе:"
   ]
  },
  {
   "cell_type": "markdown",
   "metadata": {},
   "source": [
    "1. Сохранять фотографии и из других альбомов.\n",
    "2. Сохранять фотографии из других социальных сетей. Одноклассники и Инстаграмм\n",
    "3. Сохранять фотографии на Google.Drive."
   ]
  },
  {
   "cell_type": "markdown",
   "metadata": {},
   "source": [
    "**Советы:**"
   ]
  },
  {
   "cell_type": "markdown",
   "metadata": {},
   "source": [
    "1. Для тестирования можно использовать аккаунт https://vk.com/begemot_korovin\n",
    "2. Токен для VK api: 958eb5d439726565e9333aa30e50e0f937ee432e927f0dbd541c541887d919a7c56f95c04217915c32008"
   ]
  },
  {
   "cell_type": "markdown",
   "metadata": {},
   "source": [
    "**Решение:**"
   ]
  },
  {
   "cell_type": "code",
   "execution_count": 3,
   "metadata": {},
   "outputs": [
    {
     "name": "stderr",
     "output_type": "stream",
     "text": [
      "  0%|          | 0/5 [00:00<?, ?it/s]"
     ]
    },
    {
     "name": "stdout",
     "output_type": "stream",
     "text": [
      "загрузка фотографий:\n"
     ]
    },
    {
     "name": "stderr",
     "output_type": "stream",
     "text": [
      "100%|██████████| 5/5 [00:03<00:00,  1.42it/s]\n"
     ]
    },
    {
     "name": "stdout",
     "output_type": "stream",
     "text": [
      "Загрузка файлов на Яндекс Диск\n"
     ]
    },
    {
     "name": "stderr",
     "output_type": "stream",
     "text": [
      "100%|██████████| 5/5 [00:24<00:00,  4.87s/it]\n"
     ]
    },
    {
     "name": "stdout",
     "output_type": "stream",
     "text": [
      "\n",
      "Файы загружеы. Код: 201 (Created)\n",
      "['(12-07-19id457239018.jpg (27 kB )', '(05-07-20id457239023.jpg (272 kB )', '(06-07-20id457239027.jpg (163 kB )', '(06-07-20id457239029.jpg (163 kB )', '(06-07-20id457239031.jpg (220 kB )']\n"
     ]
    }
   ],
   "source": [
    "import requests\n",
    "import tqdm\n",
    "from http.client import responses\n",
    "import datetime\n",
    "import json\n",
    "\n",
    "YATOKEN = ''\n",
    "VKTOKEN = ''\n",
    "\n",
    "\n",
    "class UsersVK:\n",
    "    API_BASE_URL = 'https://api.vk.com/method/'\n",
    "\n",
    "    def __init__(self, token: str, user_id, version='5.129'):\n",
    "        self.types = {'s': 1, 'm': 2, 'x': 3, 'o': 4, 'p': 5, 'q': 6, 'r': 7, 'y': 8, 'z': 9, 'w': 10}\n",
    "        self.vksite = 'https://vk.com/'\n",
    "        self.token = token\n",
    "        self.version = version\n",
    "        self.user_id = user_id\n",
    "        response = requests.get(self.API_BASE_URL + 'photos.get',\n",
    "                                params={'owner_id': self.user_id, 'photo_sizes': 1, 'count': 5, 'album_id': 'profile',\n",
    "                                        'extended': 1,\n",
    "                                        'access_token': token, 'v': 5.129})\n",
    "\n",
    "        photos = response.json()\n",
    "        self.photos = photos['response']['items']\n",
    "\n",
    "    def get_photos(self):\n",
    "        result = []\n",
    "        download_files = []\n",
    "        print('загрузка фотографий:')\n",
    "        for item in tqdm.tqdm(self.photos):\n",
    "            max_size = 0\n",
    "            download_link = {}\n",
    "            for link in item['sizes']:\n",
    "                if max_size > self.types.get(link['type']):\n",
    "                    continue\n",
    "                else:\n",
    "                    max_size = self.types.get(link['type'])\n",
    "                    download_link = link\n",
    "            url1 = download_link['url']\n",
    "            date = datetime.datetime.fromtimestamp(item['date'])\n",
    "            name = str(date.strftime('%d-%m-%y')) + 'id' + str(item['id']) + '.jpg'\n",
    "            result.append(name)\n",
    "            download_files.append({'file_name': name, 'size': download_link['type']})\n",
    "            responce = requests.get(url1)\n",
    "            with open(name, 'wb') as f:\n",
    "                f.write(responce.content)\n",
    "\n",
    "        with open(\"data_file.json\", \"w\") as write_file:\n",
    "            json.dump(download_files, write_file)\n",
    "        return result\n",
    "\n",
    "\n",
    "class YaUploader:\n",
    "    def __init__(self, token: str):\n",
    "        self.TOKEN = {'Authorization': 'OAuth ' + token}\n",
    "        self.HOST_API = 'https://cloud-api.yandex.net:443'\n",
    "        self.UPLOAD_LINK = '/v1/disk/resources/upload'\n",
    "        self.FILES_LIST = '/v1/disk/resources/files'\n",
    "        self.FOLDER_CREATE = '/v1/disk/resources'\n",
    "        self.FILES = files\n",
    "\n",
    "    def upload(self):\n",
    "        print('Загрузка файлов на Яндекс Диск')\n",
    "        folder = self.create_folder()\n",
    "        for item in tqdm.tqdm(self.FILES):\n",
    "            path = folder + '/' + item\n",
    "            upload_link = requests.get(self.HOST_API + self.UPLOAD_LINK, params={'path': path}, headers=self.TOKEN)\n",
    "            if upload_link.status_code != requests.codes.ok:\n",
    "                return f'\\nОшибка при получении URL. Код: ' \\\n",
    "                       f'{upload_link.status_code} ({responses[upload_link.status_code]})'\n",
    "            files = {'file': open(item, 'rb')}\n",
    "            request = requests.put(upload_link.json()['href'], params={'path': item}, files=files)\n",
    "            if not (200 <= request.status_code < 300):\n",
    "                return print(f'\\nОшибка при загрузке файла. Код: ' \\\n",
    "                       f'{request.status_code} ({responses[request.status_code]})')\n",
    "        return print(f'\\nФайы загружеы. Код: {request.status_code} ({responses[request.status_code]})')\n",
    "\n",
    "    def create_folder(self, folder_name='test'):\n",
    "        folder = requests.put(self.HOST_API + self.FOLDER_CREATE,\n",
    "                              params={'path': folder_name}, headers=self.TOKEN)\n",
    "        if not (200 <= folder.status_code < 300):\n",
    "            return f'\\nОшибка при при создании папки. Код: ' \\\n",
    "                   f'{folder.status_code} ({responses[folder.status_code]})'\n",
    "        return folder_name\n",
    "\n",
    "    def file_list (self):\n",
    "        result = []\n",
    "        request = requests.get(self.HOST_API + self.FILES_LIST, headers=self.TOKEN)\n",
    "        if not (200 <= request.status_code < 300):\n",
    "            return [f'\\nОшибка при получении списка файлов. Код: '\n",
    "                    f'{request.status_code} ({responses[request.status_code]})']\n",
    "        result += [f'({x[\"name\"]} ({str(int(x[\"size\"] / 1024))} kB )' for x in request.json()['items']]\n",
    "        return print(result)\n",
    "\n",
    "\n",
    "user_1 = UsersVK(VKTOKEN, 552934290)\n",
    "folder = 'test'\n",
    "files = user_1.get_photos()\n",
    "uploader = YaUploader(YATOKEN)\n",
    "uploader.upload()\n",
    "uploader.file_list()"
   ]
  },
  {
   "cell_type": "code",
   "execution_count": null,
   "metadata": {},
   "outputs": [],
   "source": []
  }
 ],
 "metadata": {
  "kernelspec": {
   "display_name": "Python 3",
   "language": "python",
   "name": "python3"
  },
  "language_info": {
   "codemirror_mode": {
    "name": "ipython",
    "version": 3
   },
   "file_extension": ".py",
   "mimetype": "text/x-python",
   "name": "python",
   "nbconvert_exporter": "python",
   "pygments_lexer": "ipython3",
   "version": "3.8.5"
  }
 },
 "nbformat": 4,
 "nbformat_minor": 4
}
