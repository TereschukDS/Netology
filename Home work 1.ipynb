{
 "cells": [
  {
   "cell_type": "markdown",
   "metadata": {},
   "source": [
    "# Домашнее задание к лекции 1.«Python. Знакомство с консолью»"
   ]
  },
  {
   "cell_type": "markdown",
   "metadata": {},
   "source": [
    "### Задача №1"
   ]
  },
  {
   "cell_type": "markdown",
   "metadata": {},
   "source": [
    "Для успешного выполнения задачи вам нужно:\n",
    "\n",
    "Зарегистрироваться на сайте hackerrank\n",
    "Решить задачу \"Say \"Hello, World!\" With Python\"\n",
    "Решить задачу \"Arithmetic Operators\"\n",
    "Ссылку на аккаунт приложите в качестве решения к домашнему заданию. Чтобы получить ссылку, на сайте hackerrank в правом верхнем углу нажмите на своё имя, перейдите раздел \"Profile\" и скопируйте ссылку из адресной строки браузера.\n",
    "\n",
    "Пример: ссылка на аккаунт eshmargunov - hackerrank.com/eshmargunov"
   ]
  },
  {
   "cell_type": "markdown",
   "metadata": {},
   "source": [
    "**Решение:**"
   ]
  },
  {
   "cell_type": "markdown",
   "metadata": {},
   "source": [
    "Задание: Say \"Hello, World!\" With Python"
   ]
  },
  {
   "cell_type": "code",
   "execution_count": 10,
   "metadata": {},
   "outputs": [
    {
     "name": "stdout",
     "output_type": "stream",
     "text": [
      "Hello, World!\n"
     ]
    }
   ],
   "source": [
    "my_string = \"Hello, World!\"\n",
    "print(my_string)"
   ]
  },
  {
   "cell_type": "markdown",
   "metadata": {},
   "source": [
    "Задание: Arithmetic Operators"
   ]
  },
  {
   "cell_type": "code",
   "execution_count": 11,
   "metadata": {},
   "outputs": [
    {
     "name": "stdout",
     "output_type": "stream",
     "text": [
      "3\n",
      "2\n",
      "5\n",
      "1\n",
      "6\n"
     ]
    }
   ],
   "source": [
    "if __name__ == '__main__':\n",
    "    a = int(input())\n",
    "    b = int(input())\n",
    "print(a + b)\n",
    "print(a - b)\n",
    "print(a * b)"
   ]
  },
  {
   "cell_type": "markdown",
   "metadata": {},
   "source": [
    "### Задача №2"
   ]
  },
  {
   "cell_type": "markdown",
   "metadata": {},
   "source": [
    "Квадрат и прямоугольник.\n",
    "\n",
    "Пользователь вводит длину и ширину фигуры.\n",
    "Программа выводит их периметр и площадь.\n",
    "\n",
    "Пример:\n",
    "Введите длину стороны квадрата: 3\n",
    "\n",
    "Вывод:\n",
    "Периметр: 12\n",
    "Площадь: 9\n",
    "\n",
    "Введите длину прямоугольника: 3\n",
    "Введите ширину прямоугольника: 4\n",
    "\n",
    "Вывод:\n",
    "Периметр: 14\n",
    "Площадь: 12\n",
    "\n",
    "Программа запрашивает у пользователя длину стороны квадрата и выводит его периметр и площадь. Сразу после этого пользователю предлагается ввести длину и ширину прямоугольника, для которого расчитывается периметр и площадь. Обратите внимание, что программа должна работать корректно при любых введённых значениях длины и ширины фигуры."
   ]
  },
  {
   "cell_type": "markdown",
   "metadata": {},
   "source": [
    "**Решение:**"
   ]
  },
  {
   "cell_type": "code",
   "execution_count": 6,
   "metadata": {},
   "outputs": [
    {
     "name": "stdout",
     "output_type": "stream",
     "text": [
      "Введите длину стороны квадрата: 3\n"
     ]
    }
   ],
   "source": [
    "a = int(input('Введите длину стороны квадрата: '))"
   ]
  },
  {
   "cell_type": "code",
   "execution_count": 7,
   "metadata": {},
   "outputs": [],
   "source": [
    "P = 4 * a"
   ]
  },
  {
   "cell_type": "code",
   "execution_count": 8,
   "metadata": {},
   "outputs": [],
   "source": [
    "S = a * a"
   ]
  },
  {
   "cell_type": "code",
   "execution_count": 9,
   "metadata": {},
   "outputs": [
    {
     "name": "stdout",
     "output_type": "stream",
     "text": [
      "Периметр квадрата равен 12\n",
      "Площадь квадрата равна 9\n"
     ]
    }
   ],
   "source": [
    "print('Периметр квадрата равен ' + str(P))\n",
    "print('Площадь квадрата равна ' + str(S))"
   ]
  },
  {
   "cell_type": "code",
   "execution_count": 1,
   "metadata": {},
   "outputs": [
    {
     "name": "stdout",
     "output_type": "stream",
     "text": [
      "Введите длину прямоугольника: 3\n"
     ]
    }
   ],
   "source": [
    "a = int(input('Введите длину прямоугольника: '))"
   ]
  },
  {
   "cell_type": "code",
   "execution_count": 2,
   "metadata": {},
   "outputs": [
    {
     "name": "stdout",
     "output_type": "stream",
     "text": [
      "Введите ширину прямоугольника: 4\n"
     ]
    }
   ],
   "source": [
    "b = int(input('Введите ширину прямоугольника: '))"
   ]
  },
  {
   "cell_type": "code",
   "execution_count": 3,
   "metadata": {},
   "outputs": [],
   "source": [
    "P = (a + b) * 2"
   ]
  },
  {
   "cell_type": "code",
   "execution_count": 4,
   "metadata": {},
   "outputs": [],
   "source": [
    "S = a * b"
   ]
  },
  {
   "cell_type": "code",
   "execution_count": 5,
   "metadata": {},
   "outputs": [
    {
     "name": "stdout",
     "output_type": "stream",
     "text": [
      "Периметр прямоугольника равен 14\n",
      "Площадь прямоугольника равна 12\n"
     ]
    }
   ],
   "source": [
    "print('Периметр прямоугольника равен ' + str(P))\n",
    "print('Площадь прямоугольника равна ' + str(S))"
   ]
  },
  {
   "cell_type": "markdown",
   "metadata": {},
   "source": [
    "### Задача №3"
   ]
  },
  {
   "cell_type": "markdown",
   "metadata": {},
   "source": [
    "Нужно разработать приложение для финансового планирования.\n",
    "Приложение учитывает, какой процент от заработной платы уходит на ипотеку и ежемесячные расходы.\n",
    "\n",
    "Для этого пользователю предлагается ввести следующие данные:\n",
    "\n",
    "    1.Заработную плату в месяц.\n",
    "    2.Какой процент(%) от зп уходит на ипотеку.\n",
    "    3.Какой процент(%) от зп уходит \"на жизнь\".\n",
    "\n",
    "Программа подсчитывает и выводит, сколько денег тратит пользователь на ипотеку и сколько он накопит за год (остаток от заработанной платы).\n",
    "\n",
    "Пример:\n",
    "\n",
    "Введите заработную плату в месяц: 100 000\n",
    "Введите, какой процент(%) уходит на ипотеку: 30\n",
    "Введите, какой процент(%) уходит на жизнь: 50\n",
    "\n",
    "Вывод:\n",
    "На ипотеку было потрачено: 360 000 рублей\n",
    "Было накоплено: 240 000 рублей\n"
   ]
  },
  {
   "cell_type": "markdown",
   "metadata": {},
   "source": [
    "**Решение:**"
   ]
  },
  {
   "cell_type": "code",
   "execution_count": 45,
   "metadata": {},
   "outputs": [
    {
     "name": "stdout",
     "output_type": "stream",
     "text": [
      "Введите заработанную плату в месяц: 100\n",
      "Сколько вы платите за ипотеку: 30\n",
      "Сколько вы тратите на жизнь: 50\n"
     ]
    }
   ],
   "source": [
    "salary_per_month = int(input('Введите заработанную плату в месяц: ')) * 12\n",
    "mortgage = int(input('Сколько вы платите за ипотеку: ')) / 100\n",
    "life = int(input('Сколько вы тратите на жизнь: ')) / 100"
   ]
  },
  {
   "cell_type": "code",
   "execution_count": 46,
   "metadata": {},
   "outputs": [
    {
     "name": "stdout",
     "output_type": "stream",
     "text": [
      "Было накоплено:  240 рублей\n"
     ]
    }
   ],
   "source": [
    "mortgage = int(salary_per_month * mortgage)\n",
    "life = int(salary_per_month * life)\n",
    "\n",
    "print(\"Было накоплено: \", salary_per_month - mortgage - life, \"рублей\" )"
   ]
  }
 ],
 "metadata": {
  "kernelspec": {
   "display_name": "Python 3",
   "language": "python",
   "name": "python3"
  },
  "language_info": {
   "codemirror_mode": {
    "name": "ipython",
    "version": 3
   },
   "file_extension": ".py",
   "mimetype": "text/x-python",
   "name": "python",
   "nbconvert_exporter": "python",
   "pygments_lexer": "ipython3",
   "version": "3.8.5"
  }
 },
 "nbformat": 4,
 "nbformat_minor": 4
}
